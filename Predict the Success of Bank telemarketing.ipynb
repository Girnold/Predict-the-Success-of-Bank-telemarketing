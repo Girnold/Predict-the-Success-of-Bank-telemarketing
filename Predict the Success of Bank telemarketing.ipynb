{
 "cells": [
  {
   "cell_type": "code",
   "execution_count": null,
   "id": "677d1e3c",
   "metadata": {},
   "outputs": [],
   "source": [
    "# Installing Necessary libraries\n",
    "\n",
    "import pandas as pd \n",
    "import numpy as np\n",
    "import matplotlib.pyplot as plt\n",
    "import seaborn as sns\n",
    "from sklearn.preprocessing import MinMaxScaler\n",
    "from sklearn.model_selection import cross_val_score\n",
    "from sklearn.ensemble import RandomForestClassifier\n",
    "from sklearn.linear_model import LogisticRegression\n",
    "from sklearn.svm import SVC\n",
    "from sklearn.metrics import accuracy_score\n",
    "from lightgbm import LGBMClassifier\n",
    "from sklearn.metrics import f1_score"
   ]
  },
  {
   "cell_type": "code",
   "execution_count": null,
   "id": "1ce3e15a",
   "metadata": {},
   "outputs": [],
   "source": [
    "# Load the datasets\n",
    "train_df = pd.read_csv('train.csv')\n",
    "test_df = pd.read_csv('test.csv')"
   ]
  },
  {
   "cell_type": "code",
   "execution_count": null,
   "id": "02710abb",
   "metadata": {},
   "outputs": [],
   "source": [
    "# Convert `last contact date` to datetime format in both datasets\n",
    "train_df['last contact date'] = pd.to_datetime(train_df['last contact date'], errors='coerce')\n",
    "test_df['last contact date'] = pd.to_datetime(test_df['last contact date'], errors='coerce')"
   ]
  },
  {
   "cell_type": "code",
   "execution_count": null,
   "id": "3f599e32",
   "metadata": {},
   "outputs": [],
   "source": [
    "# Extracting day, month, and year from `last contact date`\n",
    "for df in [train_df, test_df]:\n",
    "    df['contact_day'] = df['last contact date'].dt.day\n",
    "    df['contact_month'] = df['last contact date'].dt.month\n",
    "    df['contact_year'] = df['last contact date'].dt.year"
   ]
  },
  {
   "cell_type": "code",
   "execution_count": null,
   "id": "bd7c6f38",
   "metadata": {},
   "outputs": [],
   "source": [
    "# Drop original `last contact date` column as it's no longer needed\n",
    "train_df.drop(columns=['last contact date'], inplace=True)\n",
    "test_df.drop(columns=['last contact date'], inplace=True)\n"
   ]
  },
  {
   "cell_type": "code",
   "execution_count": null,
   "id": "1dd68fac",
   "metadata": {},
   "outputs": [],
   "source": [
    "# Summarizing missing values\n",
    "missing_values_train = train_df.isnull().sum()\n",
    "missing_values_test = test_df.isnull().sum()\n"
   ]
  },
  {
   "cell_type": "code",
   "execution_count": null,
   "id": "d2cdc796",
   "metadata": {},
   "outputs": [],
   "source": [
    "# Numerical and categorical columns\n",
    "numerical_cols = train_df.select_dtypes(include=['int64', 'float64']).columns.tolist()\n",
    "categorical_cols = train_df.select_dtypes(include=['object']).columns.tolist()"
   ]
  },
  {
   "cell_type": "code",
   "execution_count": null,
   "id": "5df7d7c4",
   "metadata": {},
   "outputs": [],
   "source": [
    "# Removing the target column from categorical columns for EDA purposes\n",
    "if 'target' in categorical_cols:\n",
    "    categorical_cols.remove('target')"
   ]
  },
  {
   "cell_type": "code",
   "execution_count": null,
   "id": "72f3e477",
   "metadata": {},
   "outputs": [],
   "source": [
    "# Statistical summary of numerical columns\n",
    "numerical_summary = train_df[numerical_cols].describe()"
   ]
  },
  {
   "cell_type": "code",
   "execution_count": null,
   "id": "1eb49aa9",
   "metadata": {},
   "outputs": [],
   "source": [
    "# Visualization of target variable distribution\n",
    "plt.figure(figsize=(8, 4))\n",
    "sns.barplot(x=train_df['target'].value_counts().index, y=train_df['target'].value_counts().values, palette=\"viridis\")\n",
    "plt.title('Target Variable Distribution')\n",
    "plt.ylabel('Proportion')\n",
    "plt.xlabel('Target')\n",
    "plt.show()\n"
   ]
  },
  {
   "cell_type": "code",
   "execution_count": null,
   "id": "1b5a2676",
   "metadata": {},
   "outputs": [],
   "source": [
    "# Visualize correlation heatmap for numerical features\n",
    "plt.figure(figsize=(12, 8))\n",
    "sns.heatmap(train_df[numerical_cols].corr(), annot=True, cmap='coolwarm', fmt='.2f')\n",
    "plt.title('Correlation Heatmap of Numerical Features')\n",
    "plt.show()"
   ]
  },
  {
   "cell_type": "code",
   "execution_count": null,
   "id": "e203f29c",
   "metadata": {},
   "outputs": [],
   "source": [
    "# Handling missing values\n",
    "for col in ['job', 'education', 'contact']:\n",
    "    if col in train_df.columns:\n",
    "        train_df[col] = train_df[col].fillna(train_df[col].mode()[0])\n",
    "    if col in test_df.columns:\n",
    "        test_df[col] = test_df[col].fillna(test_df[col].mode()[0])"
   ]
  },
  {
   "cell_type": "code",
   "execution_count": null,
   "id": "d26d83df",
   "metadata": {},
   "outputs": [],
   "source": [
    "# Dropping `poutcome` if it exists\n",
    "if 'poutcome' in train_df.columns:\n",
    "    train_df.drop(columns=['poutcome'], inplace=True)\n",
    "if 'poutcome' in test_df.columns:\n",
    "    test_df.drop(columns=['poutcome'], inplace=True)"
   ]
  },
  {
   "cell_type": "code",
   "execution_count": null,
   "id": "e9a84fad",
   "metadata": {},
   "outputs": [],
   "source": [
    "# Capping outliers in `balance` and `campaign`\n",
    "for col, cap in [('balance', 30000), ('campaign', 20)]:\n",
    "    if col in train_df.columns:\n",
    "        train_df[col] = np.clip(train_df[col], -cap, cap)\n",
    "    if col in test_df.columns:\n",
    "        test_df[col] = np.clip(test_df[col], -cap, cap)"
   ]
  },
  {
   "cell_type": "code",
   "execution_count": null,
   "id": "1e68eacf",
   "metadata": {},
   "outputs": [],
   "source": [
    "# Encoding categorical variables\n",
    "train_encoded = pd.get_dummies(train_df, columns=categorical_cols, drop_first=True)\n",
    "test_encoded = pd.get_dummies(test_df, columns=categorical_cols, drop_first=True)"
   ]
  },
  {
   "cell_type": "code",
   "execution_count": null,
   "id": "946a3a4a",
   "metadata": {},
   "outputs": [],
   "source": [
    "# Align test data with training data (to handle potential column mismatches)\n",
    "test_encoded = test_encoded.reindex(columns=train_encoded.columns, fill_value=0)"
   ]
  },
  {
   "cell_type": "code",
   "execution_count": null,
   "id": "92164425",
   "metadata": {},
   "outputs": [],
   "source": [
    "# Scaling numerical features\n",
    "scaler = MinMaxScaler()\n",
    "numerical_cols = ['age', 'balance', 'duration', 'campaign', 'pdays', 'previous']\n",
    "train_encoded[numerical_cols] = scaler.fit_transform(train_encoded[numerical_cols])\n",
    "test_encoded[numerical_cols] = scaler.transform(test_encoded[numerical_cols])"
   ]
  },
  {
   "cell_type": "code",
   "execution_count": null,
   "id": "789771af",
   "metadata": {},
   "outputs": [],
   "source": [
    "# Final training and test datasets\n",
    "X_train = train_encoded.drop(columns=['target'])\n",
    "y_train = train_encoded['target'].map({'yes': 1, 'no': 0})\n",
    "X_test = test_encoded.drop(columns=['target'], errors='ignore')"
   ]
  },
  {
   "cell_type": "code",
   "execution_count": null,
   "id": "51eb0894",
   "metadata": {},
   "outputs": [],
   "source": [
    "# Initialize models\n",
    "svc = SVC(kernel='rbf', random_state=42, probability=True)\n",
    "rfc = RandomForestClassifier(n_estimators=100, random_state=42)\n",
    "lr = LogisticRegression(random_state=42, max_iter=1000)\n",
    "lgbm = LGBMClassifier(random_state=42)"
   ]
  },
  {
   "cell_type": "code",
   "execution_count": null,
   "id": "ea968b2a",
   "metadata": {},
   "outputs": [],
   "source": [
    "# Dictionary to store models and their results\n",
    "models = {'SVC': svc, 'RFC': rfc, 'Logistic Regression': lr, 'LGBM': lgbm}\n",
    "results = {}"
   ]
  },
  {
   "cell_type": "code",
   "execution_count": null,
   "id": "fbc58720",
   "metadata": {},
   "outputs": [],
   "source": [
    "# Train and evaluate models using 5-fold cross-validation with macro-averaged F1-score\n",
    "for model_name, model in models.items():\n",
    "    scores = cross_val_score(model, X_train, y_train, cv=5, scoring='f1_macro')\n",
    "    results[model_name] = {\n",
    "        'Mean Macro F1': scores.mean(),\n",
    "        'Macro F1 Std Dev': scores.std()\n",
    "    }\n",
    "    print(f\"{model_name} - Mean Macro F1: {scores.mean():.4f}, Std Dev: {scores.std():.4f}\")"
   ]
  },
  {
   "cell_type": "code",
   "execution_count": null,
   "id": "b83e48ab",
   "metadata": {},
   "outputs": [],
   "source": [
    "# Train and evaluate models using 5-fold cross-validation\n",
    "for model_name, model in models.items():\n",
    "    scores_1 = cross_val_score(model, X_train, y_train, cv=5, scoring='accuracy')\n",
    "    results[model_name] = {\n",
    "        'Mean Accuracy': scores_1.mean(),\n",
    "        'Accuracy Std Dev': scores_1.std()\n",
    "    }\n",
    "    print(f\"{model_name} - Mean Accuracy: {scores_1.mean():.4f}, Std Dev: {scores_1.std():.4f}\")"
   ]
  },
  {
   "cell_type": "code",
   "execution_count": null,
   "id": "b30a8e35",
   "metadata": {},
   "outputs": [],
   "source": [
    "# Fit each model on the training data\n",
    "for model_name, model in models.items():\n",
    "    model.fit(X_train, y_train)"
   ]
  },
  {
   "cell_type": "code",
   "execution_count": null,
   "id": "d4aa5dab",
   "metadata": {},
   "outputs": [],
   "source": [
    "# Evaluate macro F1-score if true test labels are available\n",
    "if 'target' in test_df.columns:\n",
    "    y_test = test_encoded['target'].map({'yes': 1, 'no': 0})\n",
    "    macro_f1_test = f1_score(y_test, test_predictions_best, average='macro')\n",
    "    print(f\"Macro F1-score on Test Set: {macro_f1_test:.4f}\")"
   ]
  },
  {
   "cell_type": "code",
   "execution_count": null,
   "id": "f98df540",
   "metadata": {},
   "outputs": [],
   "source": [
    "# Choose the best model based on cross-validation accuracy\n",
    "best_model_name = max(results, key=lambda x: results[x]['Mean Accuracy'])\n",
    "best_model = models[best_model_name]"
   ]
  },
  {
   "cell_type": "code",
   "execution_count": null,
   "id": "7c2d94e1",
   "metadata": {},
   "outputs": [],
   "source": []
  },
  {
   "cell_type": "code",
   "execution_count": null,
   "id": "4173916e",
   "metadata": {},
   "outputs": [],
   "source": []
  },
  {
   "cell_type": "code",
   "execution_count": null,
   "id": "7d8e899a",
   "metadata": {},
   "outputs": [],
   "source": []
  },
  {
   "cell_type": "code",
   "execution_count": null,
   "id": "e2e78fb8",
   "metadata": {},
   "outputs": [],
   "source": []
  },
  {
   "cell_type": "code",
   "execution_count": 2,
   "id": "a23a186d",
   "metadata": {},
   "outputs": [
    {
     "name": "stderr",
     "output_type": "stream",
     "text": [
      "C:\\Users\\Asus\\AppData\\Local\\Temp\\ipykernel_22600\\2689434614.py:49: FutureWarning: \n",
      "\n",
      "Passing `palette` without assigning `hue` is deprecated and will be removed in v0.14.0. Assign the `x` variable to `hue` and set `legend=False` for the same effect.\n",
      "\n",
      "  sns.barplot(x=train_df['target'].value_counts().index, y=train_df['target'].value_counts().values, palette=\"viridis\")\n"
     ]
    },
    {
     "data": {
      "image/png": "[encoded data removed]",
      "text/plain": [
       "<Figure size 800x400 with 1 Axes>"
      ]
     },
     "metadata": {},
     "output_type": "display_data"
    },
    {
     "data": {
      "image/png": "[encoded data removed]",
      "text/plain": [
       "<Figure size 1200x800 with 2 Axes>"
      ]
     },
     "metadata": {},
     "output_type": "display_data"
    },
    {
     "name": "stdout",
     "output_type": "stream",
     "text": [
      "SVC - Mean Macro F1: 0.4599, Std Dev: 0.0000\n",
      "RFC - Mean Macro F1: 0.7034, Std Dev: 0.0061\n"
     ]
    },
    {
     "name": "stderr",
     "output_type": "stream",
     "text": [
      "C:\\Users\\Asus\\AppData\\Local\\Programs\\Python\\Python312\\Lib\\site-packages\\sklearn\\linear_model\\_logistic.py:469: ConvergenceWarning: lbfgs failed to converge (status=1):\n",
      "STOP: TOTAL NO. of ITERATIONS REACHED LIMIT.\n",
      "\n",
      "Increase the number of iterations (max_iter) or scale the data as shown in:\n",
      "    https://scikit-learn.org/stable/modules/preprocessing.html\n",
      "Please also refer to the documentation for alternative solver options:\n",
      "    https://scikit-learn.org/stable/modules/linear_model.html#logistic-regression\n",
      "  n_iter_i = _check_optimize_result(\n",
      "C:\\Users\\Asus\\AppData\\Local\\Programs\\Python\\Python312\\Lib\\site-packages\\sklearn\\linear_model\\_logistic.py:469: ConvergenceWarning: lbfgs failed to converge (status=1):\n",
      "STOP: TOTAL NO. of ITERATIONS REACHED LIMIT.\n",
      "\n",
      "Increase the number of iterations (max_iter) or scale the data as shown in:\n",
      "    https://scikit-learn.org/stable/modules/preprocessing.html\n",
      "Please also refer to the documentation for alternative solver options:\n",
      "    https://scikit-learn.org/stable/modules/linear_model.html#logistic-regression\n",
      "  n_iter_i = _check_optimize_result(\n",
      "C:\\Users\\Asus\\AppData\\Local\\Programs\\Python\\Python312\\Lib\\site-packages\\sklearn\\linear_model\\_logistic.py:469: ConvergenceWarning: lbfgs failed to converge (status=1):\n",
      "STOP: TOTAL NO. of ITERATIONS REACHED LIMIT.\n",
      "\n",
      "Increase the number of iterations (max_iter) or scale the data as shown in:\n",
      "    https://scikit-learn.org/stable/modules/preprocessing.html\n",
      "Please also refer to the documentation for alternative solver options:\n",
      "    https://scikit-learn.org/stable/modules/linear_model.html#logistic-regression\n",
      "  n_iter_i = _check_optimize_result(\n",
      "C:\\Users\\Asus\\AppData\\Local\\Programs\\Python\\Python312\\Lib\\site-packages\\sklearn\\linear_model\\_logistic.py:469: ConvergenceWarning: lbfgs failed to converge (status=1):\n",
      "STOP: TOTAL NO. of ITERATIONS REACHED LIMIT.\n",
      "\n",
      "Increase the number of iterations (max_iter) or scale the data as shown in:\n",
      "    https://scikit-learn.org/stable/modules/preprocessing.html\n",
      "Please also refer to the documentation for alternative solver options:\n",
      "    https://scikit-learn.org/stable/modules/linear_model.html#logistic-regression\n",
      "  n_iter_i = _check_optimize_result(\n",
      "C:\\Users\\Asus\\AppData\\Local\\Programs\\Python\\Python312\\Lib\\site-packages\\sklearn\\linear_model\\_logistic.py:469: ConvergenceWarning: lbfgs failed to converge (status=1):\n",
      "STOP: TOTAL NO. of ITERATIONS REACHED LIMIT.\n",
      "\n",
      "Increase the number of iterations (max_iter) or scale the data as shown in:\n",
      "    https://scikit-learn.org/stable/modules/preprocessing.html\n",
      "Please also refer to the documentation for alternative solver options:\n",
      "    https://scikit-learn.org/stable/modules/linear_model.html#logistic-regression\n",
      "  n_iter_i = _check_optimize_result(\n"
     ]
    },
    {
     "name": "stdout",
     "output_type": "stream",
     "text": [
      "Logistic Regression - Mean Macro F1: 0.6189, Std Dev: 0.0051\n",
      "[LightGBM] [Info] Number of positive: 4661, number of negative: 26707\n",
      "[LightGBM] [Info] Auto-choosing row-wise multi-threading, the overhead of testing was 0.000915 seconds.\n",
      "You can set `force_row_wise=true` to remove the overhead.\n",
      "And if memory is not enough, you can set `force_col_wise=true`.\n",
      "[LightGBM] [Info] Total Bins 1168\n",
      "[LightGBM] [Info] Number of data points in the train set: 31368, number of used features: 29\n",
      "[LightGBM] [Info] [binary:BoostFromScore]: pavg=0.148591 -> initscore=-1.745696\n",
      "[LightGBM] [Info] Start training from score -1.745696\n",
      "[LightGBM] [Info] Number of positive: 4662, number of negative: 26707\n",
      "[LightGBM] [Info] Auto-choosing row-wise multi-threading, the overhead of testing was 0.000911 seconds.\n",
      "You can set `force_row_wise=true` to remove the overhead.\n",
      "And if memory is not enough, you can set `force_col_wise=true`.\n",
      "[LightGBM] [Info] Total Bins 1169\n",
      "[LightGBM] [Info] Number of data points in the train set: 31369, number of used features: 29\n",
      "[LightGBM] [Info] [binary:BoostFromScore]: pavg=0.148618 -> initscore=-1.745481\n",
      "[LightGBM] [Info] Start training from score -1.745481\n",
      "[LightGBM] [Info] Number of positive: 4662, number of negative: 26707\n",
      "[LightGBM] [Info] Auto-choosing row-wise multi-threading, the overhead of testing was 0.000970 seconds.\n",
      "You can set `force_row_wise=true` to remove the overhead.\n",
      "And if memory is not enough, you can set `force_col_wise=true`.\n",
      "[LightGBM] [Info] Total Bins 1170\n",
      "[LightGBM] [Info] Number of data points in the train set: 31369, number of used features: 29\n",
      "[LightGBM] [Info] [binary:BoostFromScore]: pavg=0.148618 -> initscore=-1.745481\n",
      "[LightGBM] [Info] Start training from score -1.745481\n",
      "[LightGBM] [Info] Number of positive: 4662, number of negative: 26707\n",
      "[LightGBM] [Info] Auto-choosing row-wise multi-threading, the overhead of testing was 0.000899 seconds.\n",
      "You can set `force_row_wise=true` to remove the overhead.\n",
      "And if memory is not enough, you can set `force_col_wise=true`.\n",
      "[LightGBM] [Info] Total Bins 1172\n",
      "[LightGBM] [Info] Number of data points in the train set: 31369, number of used features: 29\n",
      "[LightGBM] [Info] [binary:BoostFromScore]: pavg=0.148618 -> initscore=-1.745481\n",
      "[LightGBM] [Info] Start training from score -1.745481\n",
      "[LightGBM] [Info] Number of positive: 4661, number of negative: 26708\n",
      "[LightGBM] [Info] Auto-choosing col-wise multi-threading, the overhead of testing was 0.001811 seconds.\n",
      "You can set `force_col_wise=true` to remove the overhead.\n",
      "[LightGBM] [Info] Total Bins 1168\n",
      "[LightGBM] [Info] Number of data points in the train set: 31369, number of used features: 29\n",
      "[LightGBM] [Info] [binary:BoostFromScore]: pavg=0.148586 -> initscore=-1.745733\n",
      "[LightGBM] [Info] Start training from score -1.745733\n",
      "LGBM - Mean Macro F1: 0.7305, Std Dev: 0.0043\n",
      "SVC - Mean Accuracy: 0.8514, Std Dev: 0.0001\n",
      "RFC - Mean Accuracy: 0.8705, Std Dev: 0.0033\n"
     ]
    },
    {
     "name": "stderr",
     "output_type": "stream",
     "text": [
      "C:\\Users\\Asus\\AppData\\Local\\Programs\\Python\\Python312\\Lib\\site-packages\\sklearn\\linear_model\\_logistic.py:469: ConvergenceWarning: lbfgs failed to converge (status=1):\n",
      "STOP: TOTAL NO. of ITERATIONS REACHED LIMIT.\n",
      "\n",
      "Increase the number of iterations (max_iter) or scale the data as shown in:\n",
      "    https://scikit-learn.org/stable/modules/preprocessing.html\n",
      "Please also refer to the documentation for alternative solver options:\n",
      "    https://scikit-learn.org/stable/modules/linear_model.html#logistic-regression\n",
      "  n_iter_i = _check_optimize_result(\n",
      "C:\\Users\\Asus\\AppData\\Local\\Programs\\Python\\Python312\\Lib\\site-packages\\sklearn\\linear_model\\_logistic.py:469: ConvergenceWarning: lbfgs failed to converge (status=1):\n",
      "STOP: TOTAL NO. of ITERATIONS REACHED LIMIT.\n",
      "\n",
      "Increase the number of iterations (max_iter) or scale the data as shown in:\n",
      "    https://scikit-learn.org/stable/modules/preprocessing.html\n",
      "Please also refer to the documentation for alternative solver options:\n",
      "    https://scikit-learn.org/stable/modules/linear_model.html#logistic-regression\n",
      "  n_iter_i = _check_optimize_result(\n",
      "C:\\Users\\Asus\\AppData\\Local\\Programs\\Python\\Python312\\Lib\\site-packages\\sklearn\\linear_model\\_logistic.py:469: ConvergenceWarning: lbfgs failed to converge (status=1):\n",
      "STOP: TOTAL NO. of ITERATIONS REACHED LIMIT.\n",
      "\n",
      "Increase the number of iterations (max_iter) or scale the data as shown in:\n",
      "    https://scikit-learn.org/stable/modules/preprocessing.html\n",
      "Please also refer to the documentation for alternative solver options:\n",
      "    https://scikit-learn.org/stable/modules/linear_model.html#logistic-regression\n",
      "  n_iter_i = _check_optimize_result(\n",
      "C:\\Users\\Asus\\AppData\\Local\\Programs\\Python\\Python312\\Lib\\site-packages\\sklearn\\linear_model\\_logistic.py:469: ConvergenceWarning: lbfgs failed to converge (status=1):\n",
      "STOP: TOTAL NO. of ITERATIONS REACHED LIMIT.\n",
      "\n",
      "Increase the number of iterations (max_iter) or scale the data as shown in:\n",
      "    https://scikit-learn.org/stable/modules/preprocessing.html\n",
      "Please also refer to the documentation for alternative solver options:\n",
      "    https://scikit-learn.org/stable/modules/linear_model.html#logistic-regression\n",
      "  n_iter_i = _check_optimize_result(\n",
      "C:\\Users\\Asus\\AppData\\Local\\Programs\\Python\\Python312\\Lib\\site-packages\\sklearn\\linear_model\\_logistic.py:469: ConvergenceWarning: lbfgs failed to converge (status=1):\n",
      "STOP: TOTAL NO. of ITERATIONS REACHED LIMIT.\n",
      "\n",
      "Increase the number of iterations (max_iter) or scale the data as shown in:\n",
      "    https://scikit-learn.org/stable/modules/preprocessing.html\n",
      "Please also refer to the documentation for alternative solver options:\n",
      "    https://scikit-learn.org/stable/modules/linear_model.html#logistic-regression\n",
      "  n_iter_i = _check_optimize_result(\n"
     ]
    },
    {
     "name": "stdout",
     "output_type": "stream",
     "text": [
      "Logistic Regression - Mean Accuracy: 0.8588, Std Dev: 0.0020\n",
      "[LightGBM] [Info] Number of positive: 4661, number of negative: 26707\n",
      "[LightGBM] [Info] Auto-choosing row-wise multi-threading, the overhead of testing was 0.000912 seconds.\n",
      "You can set `force_row_wise=true` to remove the overhead.\n",
      "And if memory is not enough, you can set `force_col_wise=true`.\n",
      "[LightGBM] [Info] Total Bins 1168\n",
      "[LightGBM] [Info] Number of data points in the train set: 31368, number of used features: 29\n",
      "[LightGBM] [Info] [binary:BoostFromScore]: pavg=0.148591 -> initscore=-1.745696\n",
      "[LightGBM] [Info] Start training from score -1.745696\n",
      "[LightGBM] [Info] Number of positive: 4662, number of negative: 26707\n",
      "[LightGBM] [Info] Auto-choosing row-wise multi-threading, the overhead of testing was 0.000879 seconds.\n",
      "You can set `force_row_wise=true` to remove the overhead.\n",
      "And if memory is not enough, you can set `force_col_wise=true`.\n",
      "[LightGBM] [Info] Total Bins 1169\n",
      "[LightGBM] [Info] Number of data points in the train set: 31369, number of used features: 29\n",
      "[LightGBM] [Info] [binary:BoostFromScore]: pavg=0.148618 -> initscore=-1.745481\n",
      "[LightGBM] [Info] Start training from score -1.745481\n",
      "[LightGBM] [Info] Number of positive: 4662, number of negative: 26707\n",
      "[LightGBM] [Info] Auto-choosing row-wise multi-threading, the overhead of testing was 0.000903 seconds.\n",
      "You can set `force_row_wise=true` to remove the overhead.\n",
      "And if memory is not enough, you can set `force_col_wise=true`.\n",
      "[LightGBM] [Info] Total Bins 1170\n",
      "[LightGBM] [Info] Number of data points in the train set: 31369, number of used features: 29\n",
      "[LightGBM] [Info] [binary:BoostFromScore]: pavg=0.148618 -> initscore=-1.745481\n",
      "[LightGBM] [Info] Start training from score -1.745481\n",
      "[LightGBM] [Info] Number of positive: 4662, number of negative: 26707\n",
      "[LightGBM] [Info] Auto-choosing row-wise multi-threading, the overhead of testing was 0.001060 seconds.\n",
      "You can set `force_row_wise=true` to remove the overhead.\n",
      "And if memory is not enough, you can set `force_col_wise=true`.\n",
      "[LightGBM] [Info] Total Bins 1172\n",
      "[LightGBM] [Info] Number of data points in the train set: 31369, number of used features: 29\n",
      "[LightGBM] [Info] [binary:BoostFromScore]: pavg=0.148618 -> initscore=-1.745481\n",
      "[LightGBM] [Info] Start training from score -1.745481\n",
      "[LightGBM] [Info] Number of positive: 4661, number of negative: 26708\n",
      "[LightGBM] [Info] Auto-choosing row-wise multi-threading, the overhead of testing was 0.000933 seconds.\n",
      "You can set `force_row_wise=true` to remove the overhead.\n",
      "And if memory is not enough, you can set `force_col_wise=true`.\n",
      "[LightGBM] [Info] Total Bins 1168\n",
      "[LightGBM] [Info] Number of data points in the train set: 31369, number of used features: 29\n",
      "[LightGBM] [Info] [binary:BoostFromScore]: pavg=0.148586 -> initscore=-1.745733\n",
      "[LightGBM] [Info] Start training from score -1.745733\n",
      "LGBM - Mean Accuracy: 0.8740, Std Dev: 0.0021\n",
      "[LightGBM] [Info] Number of positive: 5827, number of negative: 33384\n",
      "[LightGBM] [Info] Auto-choosing row-wise multi-threading, the overhead of testing was 0.001006 seconds.\n",
      "You can set `force_row_wise=true` to remove the overhead.\n",
      "And if memory is not enough, you can set `force_col_wise=true`.\n",
      "[LightGBM] [Info] Total Bins 1172\n",
      "[LightGBM] [Info] Number of data points in the train set: 39211, number of used features: 29\n",
      "[LightGBM] [Info] [binary:BoostFromScore]: pavg=0.148606 -> initscore=-1.745574\n",
      "[LightGBM] [Info] Start training from score -1.745574\n",
      "Best Model: LGBM\n"
     ]
    },
    {
     "name": "stderr",
     "output_type": "stream",
     "text": [
      "C:\\Users\\Asus\\AppData\\Local\\Programs\\Python\\Python312\\Lib\\site-packages\\sklearn\\linear_model\\_logistic.py:469: ConvergenceWarning: lbfgs failed to converge (status=1):\n",
      "STOP: TOTAL NO. of ITERATIONS REACHED LIMIT.\n",
      "\n",
      "Increase the number of iterations (max_iter) or scale the data as shown in:\n",
      "    https://scikit-learn.org/stable/modules/preprocessing.html\n",
      "Please also refer to the documentation for alternative solver options:\n",
      "    https://scikit-learn.org/stable/modules/linear_model.html#logistic-regression\n",
      "  n_iter_i = _check_optimize_result(\n"
     ]
    }
   ],
   "source": [
    "\n",
    "\n",
    "\n",
    "\n",
    "\n",
    "\n",
    "\n",
    "\n",
    "\n",
    "\n",
    "\n",
    "\n",
    "\n",
    "\n",
    "\n",
    "\n",
    "\n",
    "\n",
    "\n",
    "\n",
    "\n",
    "\n",
    "\n",
    "\n",
    "\n",
    "\n",
    "\n",
    "\n",
    "\n",
    "\n",
    "\n",
    "\n",
    "\n",
    "\n",
    "\n",
    "\n",
    "\n",
    "\n",
    "\n",
    "\n",
    "\n",
    "\n",
    "\n",
    "\n",
    "\n",
    "\n",
    "\n",
    "\n",
    "\n",
    "\n",
    "# Generate predictions using the best model\n",
    "test_predictions_best = best_model.predict(X_test)\n",
    "\n",
    "\n",
    "# Create the submission DataFrame\n",
    "submission_df = pd.DataFrame({\n",
    "    'id': test_df.index,  # Ensure indices align with the test data\n",
    "    'target': best_model\n",
    "})\n",
    "\n",
    "\n",
    "# Convert numeric predictions back to \"yes\" or \"no\"\n",
    "submission_df['target'] = submission_df['target'].map({1: 'yes', 0: 'no'})\n",
    "\n",
    "# Save the predictions in the submission format\n",
    "submission_file_path = 'submission.csv'\n",
    "submission_df.to_csv(submission_file_path, index=False)\n",
    "\n",
    "print(f\"Best Model: {best_model_name}\")\n"
   ]
  },
  {
   "cell_type": "code",
   "execution_count": null,
   "id": "5090ac66",
   "metadata": {},
   "outputs": [],
   "source": []
  }
 ],
 "metadata": {
  "kernelspec": {
   "display_name": "Python 3 (ipykernel)",
   "language": "python",
   "name": "python3"
  },
  "language_info": {
   "codemirror_mode": {
    "name": "ipython",
    "version": 3
   },
   "file_extension": ".py",
   "mimetype": "text/x-python",
   "name": "python",
   "nbconvert_exporter": "python",
   "pygments_lexer": "ipython3",
   "version": "3.12.4"
  }
 },
 "nbformat": 4,
 "nbformat_minor": 5
}
